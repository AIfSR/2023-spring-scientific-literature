{
  "nbformat": 4,
  "nbformat_minor": 0,
  "metadata": {
    "colab": {
      "provenance": []
    },
    "kernelspec": {
      "name": "python3",
      "display_name": "Python 3"
    },
    "language_info": {
      "name": "python"
    },
    "accelerator": "GPU",
    "gpuClass": "standard"
  },
  "cells": [
    {
      "cell_type": "code",
      "execution_count": 87,
      "metadata": {
        "id": "7_NTUalCrTT9"
      },
      "outputs": [],
      "source": [
        "# data_incorrect = ['Personalized Thread based Ex-ploration and Organization of Scientific Literature',\n",
        "#                   'threads including overview vi-sualizations based on citation networks',\n",
        "#                   'inspirations for new inno-vation, and positioning contributions',\n",
        "#                   'traverse references and cita-tions, read through introductions',\n",
        "#                   'with each often branch-ing into multiple threads',\n",
        "#                   'that once again re-quires her to break out',\n",
        "#                   'provides a mechanism for lever-aging the data scholars',\n",
        "#                   'users with collect-ing patches of text',\n",
        "#                   ]\n",
        "\n",
        "# data_correct = ['managing the growing user-curated bibliographies',\n",
        "#                 'becomes a sizable sub-task that once again',\n",
        "#                 'using clippings of others’ pre-digested threads',\n",
        "#                 'aims at supporting early-stage scholars’ discovery'\n",
        "#                 'flow of reading by re-building the lost context',\n",
        "#                 'content could improve end-user comprehension, engagement',\n",
        "#                 'barriers to domain-specific knowledge',\n",
        "#                 'canvas for note-taking and diagramming',\n",
        "#                 'organize the threads by drag-and-dropping a thread',\n",
        "#                 'the scale-adjusted coordinates'\n",
        "#                 ]"
      ]
    },
    {
      "cell_type": "code",
      "source": [
        "!pip install flair"
      ],
      "metadata": {
        "id": "6RD-PYvuQrId"
      },
      "execution_count": null,
      "outputs": []
    },
    {
      "cell_type": "code",
      "source": [
        "import flair\n",
        "from flair.embeddings import FlairEmbeddings\n",
        "import torch\n",
        "\n",
        "class FlairPerpScorer():\n",
        "    def __init__(self,forward=True, backward=True ):\n",
        "        model_names = []\n",
        "        if forward:\n",
        "            model_names.append(f\"news-forward\")\n",
        "        if backward:\n",
        "            model_names.append(f\"news-backward\")\n",
        "        self.lms = [FlairEmbeddings(x).lm for x in model_names]\n",
        "\n",
        "    def score_text(self, text):\n",
        "      with torch.no_grad():\n",
        "        return float(sum([lm.calculate_perplexity(text) for lm in self.lms]))"
      ],
      "metadata": {
        "id": "WmGT2Ns1QnJc"
      },
      "execution_count": 25,
      "outputs": []
    },
    {
      "cell_type": "code",
      "source": [
        "scorer = FlairPerpScorer()"
      ],
      "metadata": {
        "id": "waD2D3pnQ5Qp"
      },
      "execution_count": 26,
      "outputs": []
    },
    {
      "cell_type": "code",
      "source": [
        "data_correct_list = \"Able-bodied, High-spirited, Round-trip, Anti-theft, High-tech, Run-in, \\\n",
        "                    Brother-in-law, Call-up, Check-in, Clean-cut, Corn-fed, Co-workers, Daughter-in-law, De-emphasize, \\\n",
        "                    Double-crossing, Double-parking, Empty-handed, Ex-husband, Face-saving, Father-in-law, Follow-up, Four-letter-word, Front-runner, Get-together, Good-looking, Habit-forming, High-spirited, Ill-timed, In-depth, Know-it-all, Large-scale, Left-handed, Life-size, Low-grade, Low-key, Middle-aged, Mother-in-law, Near-sighted, Non-starter, Off-peak, Off-site, Old-fashioned, One-sided, Passer-by, Price-fixing, Pro-Scottish, Shrink-wrap, Single-minded, Strong-arm, Three-dimensional, Tie-break, Tip-off, Toss-up, Two-thirds, Ultra-violet, U-turn, Walk-on, Warm-up, Well-being, Well-known, Word-of-mouth, Worn-out, Old-fashioned, State-of-the-art, X-ray, Hard-working, Good-natured, Long-term, Self-assured, Multi-task, High-quality, Open-ended, Well-being, Short-sighted, Self-control, Self-reliant, High-ranking, Low-income, Cross-cultural, Long-term\"\n",
        "data_correct = [x.lower() for x in data_correct_list.split(', ')]"
      ],
      "metadata": {
        "id": "8aF8cjQScma6"
      },
      "execution_count": 27,
      "outputs": []
    },
    {
      "cell_type": "code",
      "source": [
        "data_incorrect_list = ['Sau-ce', 'Deligh-tful', 'Hospi-tal', 'Adj-unct', 'Boa-t', 'Sub-tly', 'Obstru-ct', 'Sin-cerity', 'Crumb-le', \\\n",
        "                       'Repli-cate', 'Plau-sible', 'Wreck-age', 'Cla-mor', 'Mig-rate', 'Lay-man', 'Leg-ion', 'Per-il', 'Omi-nous', \n",
        "                       'Orbit-ing', 'Fac-ile', 'Spor-adic', 'Inhi-bit', 'Stat-ure', 'Imp-air', 'Prod-igy', 'Qua-ff', 'Resu-me', 'Fran-chise', 'Zea-l', 'Aspi-re', 'Gli-nt', 'Tran-ce', 'Wi-ly', 'Eb-b', 'Tent-ative', 'Unra-vel', 'Glim-pse', 'Plac-id', 'Up-roar', 'Floun-der', 'Unke-mpt', 'Infu-se', 'Shro-ud', 'Quan-dary', 'Add-ress', 'Exemp-lify', 'Cong-enial', 'Trav-erse', 'Remn-ant', 'Ami-cable']\n",
        "data_incorrect = [x.lower() for x in data_incorrect_list]"
      ],
      "metadata": {
        "id": "Hy76SjuZdYz4"
      },
      "execution_count": 28,
      "outputs": []
    },
    {
      "cell_type": "code",
      "source": [
        "correct_acc = 0\n",
        "\n",
        "for sent in data_incorrect:\n",
        "  s1 = scorer.score_text(sent)\n",
        "  s2 = scorer.score_text(sent.replace('-',''))\n",
        "  if s1 > s2:\n",
        "    correct_acc +=1\n",
        "  else:\n",
        "    print(sent)\n",
        "print(\"incorrect_acc: \",correct_acc/len(data_incorrect))\n",
        "\n",
        "correct_acc = 0\n",
        "for sent in data_correct:\n",
        "  s1 = scorer.score_text(sent)\n",
        "  s2 = scorer.score_text(sent.replace('-',''))\n",
        "  if s1 < s2:\n",
        "    correct_acc +=1\n",
        "  else:\n",
        "    print(sent)\n",
        "print(\"correct_acc: \",correct_acc/len(data_correct))"
      ],
      "metadata": {
        "colab": {
          "base_uri": "https://localhost:8080/"
        },
        "id": "FTRedYE9cNQH",
        "outputId": "6636b172-36ba-4fe7-c703-44f792adf0cd"
      },
      "execution_count": 29,
      "outputs": [
        {
          "output_type": "stream",
          "name": "stdout",
          "text": [
            "incorrect_acc:  1.0\n",
            "ultra-violet\n",
            "correct_acc:  0.9875\n"
          ]
        }
      ]
    },
    {
      "cell_type": "code",
      "source": [
        "## IVE-ENA"
      ],
      "metadata": {
        "id": "gxEP5dy1bS_o"
      },
      "execution_count": null,
      "outputs": []
    },
    {
      "cell_type": "code",
      "source": [],
      "metadata": {
        "id": "8EzidfX9bS9Y"
      },
      "execution_count": null,
      "outputs": []
    },
    {
      "cell_type": "code",
      "source": [],
      "metadata": {
        "id": "owtK5BSh6A1Y"
      },
      "execution_count": null,
      "outputs": []
    }
  ]
}